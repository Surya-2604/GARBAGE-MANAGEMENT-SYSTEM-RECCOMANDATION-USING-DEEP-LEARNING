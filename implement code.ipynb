{
 "cells": [
  {
   "cell_type": "code",
   "execution_count": 3,
   "id": "fe50d72e",
   "metadata": {
    "id": "fe50d72e",
    "outputId": "d5a67bfa-f5ee-4a56-dbf8-45d77123879f"
   },
   "outputs": [],
   "source": [
    "import tensorflow as tf\n",
    "from tensorflow.keras import models,layers\n",
    "from tensorflow.keras.models import model_from_json\n",
    "import numpy as np\n",
    "import matplotlib.pyplot as plt\n",
    "import keras\n",
    "import pickle\n",
    "\n",
    "from keras.callbacks import ModelCheckpoint\n",
    "#!pip install tensorflow tensorflow-gpu tensorflow-io matplotlib"
   ]
  },
  {
   "cell_type": "code",
   "execution_count": 4,
   "id": "fe26746d",
   "metadata": {
    "id": "fe26746d",
    "outputId": "0875d2a9-4abd-482c-ce9d-8d5c10c92576"
   },
   "outputs": [
    {
     "data": {
      "text/plain": [
       "[]"
      ]
     },
     "execution_count": 4,
     "metadata": {},
     "output_type": "execute_result"
    }
   ],
   "source": [
    "import tensorflow as tf\n",
    "tf.test.is_built_with_cuda()\n",
    "tf.config.list_physical_devices('GPU')\n",
    "#tf.test.is_gpu_available(cuda_only=False, min_cuda_compute_capability=None)"
   ]
  },
  {
   "cell_type": "code",
   "execution_count": 5,
   "id": "fe4e78e3",
   "metadata": {
    "id": "fe4e78e3",
    "outputId": "e50f91ef-2560-46f2-f687-ff4c16d4419e"
   },
   "outputs": [
    {
     "name": "stdout",
     "output_type": "stream",
     "text": [
      "2.9.2\n"
     ]
    }
   ],
   "source": [
    "IMAGE_SIZE=28\n",
    "BATCH_SIZE=8\n",
    "CHANNELS=3\n",
    "print(tf. __version__) "
   ]
  },
  {
   "cell_type": "code",
   "execution_count": 6,
   "id": "54fac1f8",
   "metadata": {
    "id": "54fac1f8",
    "outputId": "a28730c3-b639-493c-9008-1d6101a2fbc2"
   },
   "outputs": [
    {
     "name": "stdout",
     "output_type": "stream",
     "text": [
      "Found 15515 files belonging to 13 classes.\n"
     ]
    }
   ],
   "source": [
    "load_data = tf.keras.preprocessing.image_dataset_from_directory(\n",
    "    \"garbage_classification\",\n",
    "    shuffle=True,\n",
    "    image_size=(IMAGE_SIZE,IMAGE_SIZE),\n",
    "    batch_size=BATCH_SIZE\n",
    ")"
   ]
  },
  {
   "cell_type": "code",
   "execution_count": 7,
   "id": "60f92c66",
   "metadata": {
    "id": "60f92c66",
    "outputId": "e545861a-db23-48d2-b4b0-ee9902b1054a"
   },
   "outputs": [
    {
     "data": {
      "text/plain": [
       "['battery',\n",
       " 'biological',\n",
       " 'brown-glass',\n",
       " 'cardboard',\n",
       " 'clothes',\n",
       " 'green-glass',\n",
       " 'metal',\n",
       " 'paper',\n",
       " 'plastic',\n",
       " 'shoes',\n",
       " 'text_data',\n",
       " 'trash',\n",
       " 'white-glass']"
      ]
     },
     "execution_count": 7,
     "metadata": {},
     "output_type": "execute_result"
    }
   ],
   "source": [
    "class_names= load_data.class_names\n",
    "class_names"
   ]
  },
  {
   "cell_type": "code",
   "execution_count": 8,
   "id": "0b2c2d72",
   "metadata": {
    "id": "0b2c2d72",
    "outputId": "4c9db2aa-e3a0-4ba0-87e1-485fdf600f34"
   },
   "outputs": [
    {
     "name": "stdout",
     "output_type": "stream",
     "text": [
      "(8, 28, 28, 3)\n",
      "[4 4 4 4 1 4 7 7]\n"
     ]
    }
   ],
   "source": [
    "for image_batch,label_batch in load_data.take(1):\n",
    "    print(image_batch.shape)\n",
    "    print(label_batch.numpy())"
   ]
  },
  {
   "cell_type": "code",
   "execution_count": 9,
   "id": "de00b047",
   "metadata": {
    "id": "de00b047",
    "outputId": "2b88e4e5-8304-4aed-acea-7a9d5c7d20f6"
   },
   "outputs": [
    {
     "data": {
      "text/plain": [
       "1940"
      ]
     },
     "execution_count": 9,
     "metadata": {},
     "output_type": "execute_result"
    }
   ],
   "source": [
    "len(load_data)"
   ]
  },
  {
   "cell_type": "code",
   "execution_count": 10,
   "id": "a1d920e3",
   "metadata": {
    "id": "a1d920e3",
    "outputId": "2cec307c-c24f-496d-acba-b80a54f3cc9c"
   },
   "outputs": [
    {
     "data": {
      "image/png": "[encoded data removed]",
      "text/plain": [
       "<Figure size 1440x1440 with 2 Axes>"
      ]
     },
     "metadata": {
      "needs_background": "light"
     },
     "output_type": "display_data"
    }
   ],
   "source": [
    "plt.figure(figsize=(20,20))\n",
    "for image_batch,label_batch in load_data.take(1):\n",
    "    for i in range(0,2):\n",
    "        plt.subplot(6,4,i+1)\n",
    "        plt.imshow(image_batch[i].numpy().astype(\"uint32\"))\n",
    "        plt.title(class_names[label_batch[i]])\n",
    "        plt.axis(\"off\")"
   ]
  },
  {
   "cell_type": "code",
   "execution_count": 11,
   "id": "bb6e4f12",
   "metadata": {
    "id": "bb6e4f12"
   },
   "outputs": [],
   "source": [
    "def get_dataset_partition_tf(data,train_split=0.8,val_split=0.1,test_split=0.1,shuffle=True,shuffle_size=10000):\n",
    "    data_size=len(data)\n",
    "    if shuffle:\n",
    "        data=data.shuffle(shuffle_size,seed=12)\n",
    "    train_size=int(train_split*data_size)\n",
    "    val_size=int(val_split*data_size)\n",
    "    train_data=data.take(train_size)\n",
    "    \n",
    "    val_data=data.skip(train_size).take(val_size)\n",
    "    test_data=data.skip(train_size).skip(val_size)\n",
    "    return train_data,val_data,test_data\n",
    "    "
   ]
  },
  {
   "cell_type": "code",
   "execution_count": 12,
   "id": "05242f54",
   "metadata": {
    "id": "05242f54"
   },
   "outputs": [],
   "source": [
    "train_data,val_data,test_data=get_dataset_partition_tf(load_data)"
   ]
  },
  {
   "cell_type": "code",
   "execution_count": 13,
   "id": "ff5630c2",
   "metadata": {
    "id": "ff5630c2",
    "outputId": "fd5b4a26-9975-4a7e-f6ab-98ef019314a0"
   },
   "outputs": [
    {
     "data": {
      "text/plain": [
       "1552"
      ]
     },
     "execution_count": 13,
     "metadata": {},
     "output_type": "execute_result"
    }
   ],
   "source": [
    "len(train_data)"
   ]
  },
  {
   "cell_type": "code",
   "execution_count": 14,
   "id": "fb198663",
   "metadata": {
    "id": "fb198663",
    "outputId": "f076a72f-95bf-4b04-f806-592f711e512b"
   },
   "outputs": [
    {
     "data": {
      "text/plain": [
       "194"
      ]
     },
     "execution_count": 14,
     "metadata": {},
     "output_type": "execute_result"
    }
   ],
   "source": [
    "len(val_data)"
   ]
  },
  {
   "cell_type": "code",
   "execution_count": 15,
   "id": "935f24fe",
   "metadata": {
    "id": "935f24fe",
    "outputId": "f8c9cb45-c25a-4c56-a49d-9ee5887349e2"
   },
   "outputs": [
    {
     "data": {
      "text/plain": [
       "194"
      ]
     },
     "execution_count": 15,
     "metadata": {},
     "output_type": "execute_result"
    }
   ],
   "source": [
    "len(test_data)"
   ]
  },
  {
   "cell_type": "code",
   "execution_count": 16,
   "id": "e23ac7ba",
   "metadata": {
    "id": "e23ac7ba"
   },
   "outputs": [],
   "source": [
    "train_data=train_data.cache().shuffle(1000).prefetch(buffer_size=tf.data.AUTOTUNE)\n",
    "val_data=val_data.cache().shuffle(1000).prefetch(buffer_size=tf.data.AUTOTUNE)\n",
    "test_data=test_data.cache().shuffle(1000).prefetch(buffer_size=tf.data.AUTOTUNE)"
   ]
  },
  {
   "cell_type": "code",
   "execution_count": 17,
   "id": "a3020298",
   "metadata": {
    "id": "a3020298"
   },
   "outputs": [],
   "source": [
    "resize_and_rescale =tf.keras.Sequential([\n",
    "  layers.experimental.preprocessing.Resizing(IMAGE_SIZE,IMAGE_SIZE),\n",
    "  layers.experimental.preprocessing.Rescaling(1.0/28)  \n",
    "\n",
    "])"
   ]
  },
  {
   "cell_type": "code",
   "execution_count": 18,
   "id": "73c85f46",
   "metadata": {
    "id": "73c85f46"
   },
   "outputs": [],
   "source": [
    "data_augmentation =tf.keras.Sequential([\n",
    "  layers.experimental.preprocessing.RandomFlip(\"horizontal_and_vertical\"),\n",
    "  layers.experimental.preprocessing.RandomRotation(0.2)  \n",
    "\n",
    "])"
   ]
  },
  {
   "cell_type": "code",
   "execution_count": 19,
   "id": "57b93a2e",
   "metadata": {
    "id": "57b93a2e"
   },
   "outputs": [],
   "source": [
    "#for image, _ in train_ds.take(1):\n",
    " # plt.figure(figsize=(10, 10))\n",
    "#  first_image = image[0]\n",
    " # for i in range(9):\n",
    "  #  ax = plt.subplot(3, 3, i + 1)\n",
    "   # augmented_image = data_augmentation(tf.expand_dims(first_image, 0))\n",
    "    #plt.imshow(augmented_image[0] / 255)\n",
    "    #plt.axis('off')"
   ]
  },
  {
   "cell_type": "code",
   "execution_count": 20,
   "id": "fd3692d8",
   "metadata": {
    "id": "fd3692d8"
   },
   "outputs": [],
   "source": [
    "input_shape = (BATCH_SIZE,IMAGE_SIZE,IMAGE_SIZE,CHANNELS)\n",
    "\n",
    "overall_model = models.Sequential([\n",
    "    resize_and_rescale,#data_augmentation,\n",
    "    layers.Conv2D(16,(3,3),activation = \"relu\", input_shape = input_shape),\n",
    "    layers.MaxPooling2D((2,2)),\n",
    "    layers.Conv2D(32,kernel_size = (3,3),activation= \"relu\"),\n",
    "    layers.MaxPooling2D((2,2)),\n",
    "    layers.Conv2D(64,kernel_size = (3,3),activation= \"relu\"),\n",
    "    layers.MaxPooling2D((2,2)),\n",
    "    layers.Flatten(),\n",
    "    layers.Dense(128,activation='relu'),\n",
    "    layers.Dense(len(class_names),activation='softmax')\n",
    "\n",
    "])\n"
   ]
  },
  {
   "cell_type": "code",
   "execution_count": 21,
   "id": "4c1cb68a",
   "metadata": {},
   "outputs": [],
   "source": [
    "overall_model.build(input_shape=input_shape)"
   ]
  },
  {
   "cell_type": "code",
   "execution_count": 22,
   "id": "55f65b4e",
   "metadata": {},
   "outputs": [
    {
     "name": "stdout",
     "output_type": "stream",
     "text": [
      "Model: \"sequential_2\"\n",
      "_________________________________________________________________\n",
      " Layer (type)                Output Shape              Param #   \n",
      "=================================================================\n",
      " sequential (Sequential)     (8, 28, 28, 3)            0         \n",
      "                                                                 \n",
      " conv2d (Conv2D)             (8, 26, 26, 16)           448       \n",
      "                                                                 \n",
      " max_pooling2d (MaxPooling2D  (8, 13, 13, 16)          0         \n",
      " )                                                               \n",
      "                                                                 \n",
      " conv2d_1 (Conv2D)           (8, 11, 11, 32)           4640      \n",
      "                                                                 \n",
      " max_pooling2d_1 (MaxPooling  (8, 5, 5, 32)            0         \n",
      " 2D)                                                             \n",
      "                                                                 \n",
      " conv2d_2 (Conv2D)           (8, 3, 3, 64)             18496     \n",
      "                                                                 \n",
      " max_pooling2d_2 (MaxPooling  (8, 1, 1, 64)            0         \n",
      " 2D)                                                             \n",
      "                                                                 \n",
      " flatten (Flatten)           (8, 64)                   0         \n",
      "                                                                 \n",
      " dense (Dense)               (8, 128)                  8320      \n",
      "                                                                 \n",
      " dense_1 (Dense)             (8, 13)                   1677      \n",
      "                                                                 \n",
      "=================================================================\n",
      "Total params: 33,581\n",
      "Trainable params: 33,581\n",
      "Non-trainable params: 0\n",
      "_________________________________________________________________\n"
     ]
    }
   ],
   "source": [
    "\n",
    "overall_model.summary()\n"
   ]
  },
  {
   "cell_type": "code",
   "execution_count": 23,
   "id": "900c168b",
   "metadata": {
    "id": "900c168b"
   },
   "outputs": [],
   "source": [
    "base_learning_rate = 0.0001\n",
    "\n",
    "overall_model.compile(\n",
    "    optimizer=tf.keras.optimizers.Adam(learning_rate=base_learning_rate),\n",
    "    loss=tf.keras.losses.SparseCategoricalCrossentropy(from_logits=False),\n",
    "    metrics=['accuracy']\n",
    "\n",
    ")"
   ]
  },
  {
   "cell_type": "code",
   "execution_count": 24,
   "id": "5062dc78",
   "metadata": {
    "id": "5062dc78",
    "outputId": "bca720d4-cd64-4d33-dfaf-6564d6e57bb3",
    "scrolled": true
   },
   "outputs": [
    {
     "name": "stdout",
     "output_type": "stream",
     "text": [
      "Epoch 1/50\n",
      "1552/1552 [==============================] - 23s 11ms/step - loss: 1.7580 - accuracy: 0.4428 - val_loss: 1.4109 - val_accuracy: 0.5277\n",
      "Epoch 2/50\n",
      "1552/1552 [==============================] - 11s 7ms/step - loss: 1.3597 - accuracy: 0.5534 - val_loss: 1.3039 - val_accuracy: 0.5709\n",
      "Epoch 3/50\n",
      "1552/1552 [==============================] - 11s 7ms/step - loss: 1.2439 - accuracy: 0.5862 - val_loss: 1.2030 - val_accuracy: 0.5851\n",
      "Epoch 4/50\n",
      "1552/1552 [==============================] - 12s 7ms/step - loss: 1.1728 - accuracy: 0.6090 - val_loss: 1.1442 - val_accuracy: 0.6302\n",
      "Epoch 5/50\n",
      "1552/1552 [==============================] - 11s 7ms/step - loss: 1.1224 - accuracy: 0.6224 - val_loss: 1.1001 - val_accuracy: 0.6372\n",
      "Epoch 6/50\n",
      "1552/1552 [==============================] - 11s 7ms/step - loss: 1.0849 - accuracy: 0.6374 - val_loss: 1.0466 - val_accuracy: 0.6566\n",
      "Epoch 7/50\n",
      "1552/1552 [==============================] - 12s 7ms/step - loss: 1.0464 - accuracy: 0.6549 - val_loss: 1.0801 - val_accuracy: 0.6443\n",
      "Epoch 8/50\n",
      "1552/1552 [==============================] - 12s 7ms/step - loss: 1.0140 - accuracy: 0.6647 - val_loss: 1.0224 - val_accuracy: 0.6662\n",
      "Epoch 9/50\n",
      "1552/1552 [==============================] - 12s 7ms/step - loss: 0.9897 - accuracy: 0.6685 - val_loss: 1.0071 - val_accuracy: 0.6682\n",
      "Epoch 10/50\n",
      "1552/1552 [==============================] - 12s 7ms/step - loss: 0.9619 - accuracy: 0.6801 - val_loss: 0.9569 - val_accuracy: 0.6830\n",
      "Epoch 11/50\n",
      "1552/1552 [==============================] - 11s 7ms/step - loss: 0.9419 - accuracy: 0.6879 - val_loss: 0.9119 - val_accuracy: 0.7068\n",
      "Epoch 12/50\n",
      "1552/1552 [==============================] - 12s 7ms/step - loss: 0.9145 - accuracy: 0.6970 - val_loss: 0.9054 - val_accuracy: 0.6927\n",
      "Epoch 13/50\n",
      "1552/1552 [==============================] - 11s 7ms/step - loss: 0.8928 - accuracy: 0.7036 - val_loss: 0.8891 - val_accuracy: 0.6920\n",
      "Epoch 14/50\n",
      "1552/1552 [==============================] - 11s 7ms/step - loss: 0.8735 - accuracy: 0.7091 - val_loss: 0.8895 - val_accuracy: 0.6939\n",
      "Epoch 15/50\n",
      "1552/1552 [==============================] - 12s 7ms/step - loss: 0.8500 - accuracy: 0.7199 - val_loss: 0.9128 - val_accuracy: 0.6952\n",
      "Epoch 16/50\n",
      "1552/1552 [==============================] - 11s 7ms/step - loss: 0.8341 - accuracy: 0.7234 - val_loss: 0.8285 - val_accuracy: 0.7068\n",
      "Epoch 17/50\n",
      "1552/1552 [==============================] - 11s 7ms/step - loss: 0.8121 - accuracy: 0.7332 - val_loss: 0.8322 - val_accuracy: 0.7191\n",
      "Epoch 18/50\n",
      "1552/1552 [==============================] - 11s 7ms/step - loss: 0.7972 - accuracy: 0.7380 - val_loss: 0.8068 - val_accuracy: 0.7332\n",
      "Epoch 19/50\n",
      "1552/1552 [==============================] - 11s 7ms/step - loss: 0.7746 - accuracy: 0.7447 - val_loss: 0.7858 - val_accuracy: 0.7397\n",
      "Epoch 20/50\n",
      "1552/1552 [==============================] - 11s 7ms/step - loss: 0.7586 - accuracy: 0.7506 - val_loss: 0.7971 - val_accuracy: 0.7287\n",
      "Epoch 21/50\n",
      "1552/1552 [==============================] - 12s 7ms/step - loss: 0.7430 - accuracy: 0.7521 - val_loss: 0.8845 - val_accuracy: 0.7068\n",
      "Epoch 22/50\n",
      "1552/1552 [==============================] - 11s 7ms/step - loss: 0.7215 - accuracy: 0.7629 - val_loss: 0.7441 - val_accuracy: 0.7416\n",
      "Epoch 23/50\n",
      "1552/1552 [==============================] - 11s 7ms/step - loss: 0.7107 - accuracy: 0.7658 - val_loss: 0.7181 - val_accuracy: 0.7642\n",
      "Epoch 24/50\n",
      "1552/1552 [==============================] - 11s 7ms/step - loss: 0.6916 - accuracy: 0.7722 - val_loss: 0.7134 - val_accuracy: 0.7564\n",
      "Epoch 25/50\n",
      "1552/1552 [==============================] - 11s 7ms/step - loss: 0.6766 - accuracy: 0.7783 - val_loss: 0.7001 - val_accuracy: 0.7674\n",
      "Epoch 26/50\n",
      "1552/1552 [==============================] - 11s 7ms/step - loss: 0.6595 - accuracy: 0.7831 - val_loss: 0.6818 - val_accuracy: 0.7726\n",
      "Epoch 27/50\n",
      "1552/1552 [==============================] - 11s 7ms/step - loss: 0.6513 - accuracy: 0.7830 - val_loss: 0.6725 - val_accuracy: 0.7874\n",
      "Epoch 28/50\n",
      "1552/1552 [==============================] - 11s 7ms/step - loss: 0.6351 - accuracy: 0.7901 - val_loss: 0.6765 - val_accuracy: 0.7719\n",
      "Epoch 29/50\n",
      "1552/1552 [==============================] - 11s 7ms/step - loss: 0.6198 - accuracy: 0.7922 - val_loss: 0.6375 - val_accuracy: 0.7945\n",
      "Epoch 30/50\n",
      "1552/1552 [==============================] - 11s 7ms/step - loss: 0.6025 - accuracy: 0.8038 - val_loss: 0.6299 - val_accuracy: 0.7964\n",
      "Epoch 31/50\n",
      "1552/1552 [==============================] - 11s 7ms/step - loss: 0.5957 - accuracy: 0.8009 - val_loss: 0.6385 - val_accuracy: 0.7919\n",
      "Epoch 32/50\n",
      "1552/1552 [==============================] - 11s 7ms/step - loss: 0.5795 - accuracy: 0.8086 - val_loss: 0.6327 - val_accuracy: 0.7970\n",
      "Epoch 33/50\n",
      "1552/1552 [==============================] - 11s 7ms/step - loss: 0.5674 - accuracy: 0.8110 - val_loss: 0.6275 - val_accuracy: 0.7932\n",
      "Epoch 34/50\n",
      "1552/1552 [==============================] - 11s 7ms/step - loss: 0.5512 - accuracy: 0.8186 - val_loss: 0.5868 - val_accuracy: 0.8164\n",
      "Epoch 35/50\n",
      "1552/1552 [==============================] - 11s 7ms/step - loss: 0.5381 - accuracy: 0.8222 - val_loss: 0.6411 - val_accuracy: 0.7938\n",
      "Epoch 36/50\n",
      "1552/1552 [==============================] - 11s 7ms/step - loss: 0.5336 - accuracy: 0.8264 - val_loss: 0.5714 - val_accuracy: 0.8209\n",
      "Epoch 37/50\n",
      "1552/1552 [==============================] - 12s 8ms/step - loss: 0.5159 - accuracy: 0.8306 - val_loss: 0.5790 - val_accuracy: 0.8254\n",
      "Epoch 38/50\n",
      "1552/1552 [==============================] - 12s 7ms/step - loss: 0.5051 - accuracy: 0.8344 - val_loss: 0.5716 - val_accuracy: 0.8222\n",
      "Epoch 39/50\n",
      "1552/1552 [==============================] - 11s 7ms/step - loss: 0.4930 - accuracy: 0.8400 - val_loss: 0.5693 - val_accuracy: 0.8209\n",
      "Epoch 40/50\n",
      "1552/1552 [==============================] - 11s 7ms/step - loss: 0.4782 - accuracy: 0.8433 - val_loss: 0.5275 - val_accuracy: 0.8447\n",
      "Epoch 41/50\n",
      "1552/1552 [==============================] - 11s 7ms/step - loss: 0.4708 - accuracy: 0.8425 - val_loss: 0.5400 - val_accuracy: 0.8370\n",
      "Epoch 42/50\n",
      "1552/1552 [==============================] - 11s 7ms/step - loss: 0.4580 - accuracy: 0.8496 - val_loss: 0.5295 - val_accuracy: 0.8460\n",
      "Epoch 43/50\n",
      "1552/1552 [==============================] - 11s 7ms/step - loss: 0.4454 - accuracy: 0.8523 - val_loss: 0.5264 - val_accuracy: 0.8447\n",
      "Epoch 44/50\n",
      "1552/1552 [==============================] - 11s 7ms/step - loss: 0.4344 - accuracy: 0.8595 - val_loss: 0.5970 - val_accuracy: 0.8067\n",
      "Epoch 45/50\n",
      "1552/1552 [==============================] - 11s 7ms/step - loss: 0.4254 - accuracy: 0.8614 - val_loss: 0.5495 - val_accuracy: 0.8396\n",
      "Epoch 46/50\n",
      "1552/1552 [==============================] - 11s 7ms/step - loss: 0.4188 - accuracy: 0.8633 - val_loss: 0.5030 - val_accuracy: 0.8428\n",
      "Epoch 47/50\n",
      "1552/1552 [==============================] - 11s 7ms/step - loss: 0.4062 - accuracy: 0.8684 - val_loss: 0.5434 - val_accuracy: 0.8389\n",
      "Epoch 48/50\n",
      "1552/1552 [==============================] - 11s 7ms/step - loss: 0.3958 - accuracy: 0.8691 - val_loss: 0.5105 - val_accuracy: 0.8608\n",
      "Epoch 49/50\n",
      "1552/1552 [==============================] - 11s 7ms/step - loss: 0.3850 - accuracy: 0.8735 - val_loss: 0.5058 - val_accuracy: 0.8570\n",
      "Epoch 50/50\n",
      "1552/1552 [==============================] - 11s 7ms/step - loss: 0.3710 - accuracy: 0.8796 - val_loss: 0.5170 - val_accuracy: 0.8512\n"
     ]
    }
   ],
   "source": [
    "history=overall_model.fit(\n",
    "    train_data,\n",
    "    epochs=50,\n",
    "    batch_size=8,\n",
    "    validation_data=val_data\n",
    "\n",
    ")"
   ]
  },
  {
   "cell_type": "code",
   "execution_count": 25,
   "id": "a4e1dc37",
   "metadata": {
    "id": "a4e1dc37",
    "outputId": "2ec6d424-9688-4e82-c2b6-1db14870d5ca"
   },
   "outputs": [
    {
     "name": "stdout",
     "output_type": "stream",
     "text": [
      "194/194 [==============================] - 5s 3ms/step - loss: 0.5433 - accuracy: 0.8454\n"
     ]
    }
   ],
   "source": [
    "scores=overall_model.evaluate(test_data)"
   ]
  },
  {
   "cell_type": "code",
   "execution_count": 26,
   "id": "1ad7efac",
   "metadata": {
    "id": "1ad7efac",
    "outputId": "42c6ffb2-3b6e-44ec-cabb-71184dd1d4db"
   },
   "outputs": [
    {
     "data": {
      "image/png": "[encoded data removed]",
      "text/plain": [
       "<Figure size 576x576 with 2 Axes>"
      ]
     },
     "metadata": {
      "needs_background": "light"
     },
     "output_type": "display_data"
    }
   ],
   "source": [
    "acc = history.history['accuracy']\n",
    "val_acc = history.history['val_accuracy']\n",
    "\n",
    "loss = history.history['loss']\n",
    "val_loss = history.history['val_loss']\n",
    "\n",
    "plt.figure(figsize=(8, 8))\n",
    "plt.subplot(2, 1, 1)\n",
    "plt.plot(acc, label='Training Accuracy')\n",
    "plt.plot(val_acc, label='Validation Accuracy')\n",
    "plt.legend(loc='lower right')\n",
    "plt.ylabel('Accuracy')\n",
    "plt.ylim([min(plt.ylim()),1])\n",
    "plt.title('Training and Validation Accuracy')\n",
    "\n",
    "plt.subplot(2, 1, 2)\n",
    "plt.plot(loss, label='Training Loss')\n",
    "plt.plot(val_loss, label='Validation Loss')\n",
    "plt.legend(loc='upper right')\n",
    "plt.ylabel('Cross Entropy')\n",
    "plt.ylim([0,3.0])\n",
    "plt.title('Training and Validation Loss')\n",
    "plt.xlabel('epoch')\n",
    "plt.show()"
   ]
  },
  {
   "cell_type": "code",
   "execution_count": null,
   "id": "2eaf6450",
   "metadata": {},
   "outputs": [],
   "source": [
    "from sklearn.metrics import classification_report\n",
    "\n",
    "# assuming y_true is a list of true labels and y_pred is a list of predicted labels\n",
    "print(classification_report(y_true, y_pred))\n"
   ]
  },
  {
   "cell_type": "code",
   "execution_count": 27,
   "id": "8ee0faf1",
   "metadata": {
    "id": "8ee0faf1",
    "outputId": "84fad231-3c95-4ef2-f39c-37efeb11efd5"
   },
   "outputs": [
    {
     "name": "stdout",
     "output_type": "stream",
     "text": [
      "Actual label :  paper\n",
      "1/1 [==============================] - 4s 4s/step\n",
      "predicted label :  paper\n"
     ]
    },
    {
     "data": {
      "text/plain": [
       "numpy.ndarray"
      ]
     },
     "execution_count": 27,
     "metadata": {},
     "output_type": "execute_result"
    },
    {
     "data": {
      "image/png": "[encoded data removed]",
      "text/plain": [
       "<Figure size 432x288 with 1 Axes>"
      ]
     },
     "metadata": {
      "needs_background": "light"
     },
     "output_type": "display_data"
    }
   ],
   "source": [
    "for image_batch,lables_batch in test_data.take(1):\n",
    "    image=image_batch[0].numpy().astype(\"uint8\")\n",
    "    label=lables_batch[0].numpy()\n",
    "    \n",
    "    plt.imshow(image)\n",
    "    print(\"Actual label : \",class_names[label])\n",
    "    \n",
    "    \n",
    "    batch_prediction=overall_model.predict(image_batch)\n",
    "    print(\"predicted label : \",class_names[np.argmax(batch_prediction[0])])\n",
    "    plt.axis(\"off\")\n",
    "type(batch_prediction[0])"
   ]
  },
  {
   "cell_type": "code",
   "execution_count": 28,
   "id": "2a70bcc0",
   "metadata": {
    "id": "2a70bcc0"
   },
   "outputs": [
    {
     "ename": "NameError",
     "evalue": "name 'img_array' is not defined",
     "output_type": "error",
     "traceback": [
      "\u001b[1;31m---------------------------------------------------------------------------\u001b[0m",
      "\u001b[1;31mNameError\u001b[0m                                 Traceback (most recent call last)",
      "Input \u001b[1;32mIn [28]\u001b[0m, in \u001b[0;36m<cell line: 11>\u001b[1;34m()\u001b[0m\n\u001b[0;32m      8\u001b[0m     confidence \u001b[38;5;241m=\u001b[39m \u001b[38;5;28mround\u001b[39m(\u001b[38;5;241m100\u001b[39m\u001b[38;5;241m*\u001b[39m(np\u001b[38;5;241m.\u001b[39mmax(prediction[\u001b[38;5;241m0\u001b[39m])),\u001b[38;5;241m2\u001b[39m)\n\u001b[0;32m      9\u001b[0m     \u001b[38;5;28;01mreturn\u001b[39;00m predicted_class,confidence\n\u001b[1;32m---> 11\u001b[0m \u001b[38;5;28mprint\u001b[39m(\u001b[43mimg_array\u001b[49m)\n",
      "\u001b[1;31mNameError\u001b[0m: name 'img_array' is not defined"
     ]
    }
   ],
   "source": [
    "def predict (overall_model,img):\n",
    "    img_array = tf.keras.preprocessing.image.img_to_array(image[i].numpy())\n",
    "    img_array = tf.expand_dims(img_array,0)\n",
    "    \n",
    "    \n",
    "    prediction = overall_model.predict(img_array)\n",
    "    predicted_class = class_names[np.argmax(prediction[0])]\n",
    "    confidence = round(100*(np.max(prediction[0])),2)\n",
    "    return predicted_class,confidence\n",
    "\n",
    "print(img_array)"
   ]
  },
  {
   "cell_type": "code",
   "execution_count": null,
   "id": "b7cecf21",
   "metadata": {
    "id": "b7cecf21",
    "outputId": "54a55458-e91b-4a84-bcb9-b95587f76b5b",
    "scrolled": true
   },
   "outputs": [],
   "source": [
    "plt.figure(figsize=(15,15))\n",
    "for image, labels in test_data.take(2):\n",
    "    for i in range(2):\n",
    "        plt.imshow(image[i].numpy().astype(\"uint8\"))\n",
    "        plt.subplot(3,3,i+1)\n",
    "        predicted_class= predict(overall_model,image[i].numpy())\n",
    "        actual_class = class_names[labels[i]]\n",
    "        \n",
    "        plt.title(f\"actual : {actual_class},\\n predicted : {predicted_class}%\")\n",
    "        plt.axis(\"off\")"
   ]
  },
  {
   "cell_type": "code",
   "execution_count": null,
   "id": "37c1d041",
   "metadata": {
    "id": "37c1d041"
   },
   "outputs": [],
   "source": [
    "overall_model.save(\"implement1.h5\")"
   ]
  },
  {
   "cell_type": "code",
   "execution_count": 1,
   "id": "1145ce27",
   "metadata": {
    "id": "1145ce27"
   },
   "outputs": [],
   "source": [
    "from tkinter import Tk\n",
    "from tkinter.filedialog import askopenfilename\n",
    "from PIL import Image\n",
    "\n",
    "# Create a Tkinter window\n",
    "root = Tk()\n",
    "root.withdraw()\n",
    "\n",
    "# Open the file dialog and allow the user to choose an image file\n",
    "file_path = askopenfilename(filetypes=[(\"Image files\", \"*.jpg;*.jpeg;*.png\")])\n"
   ]
  },
  {
   "cell_type": "code",
   "execution_count": 2,
   "id": "fc7af0c7",
   "metadata": {},
   "outputs": [
    {
     "name": "stdout",
     "output_type": "stream",
     "text": [
      "File exists!\n"
     ]
    }
   ],
   "source": [
    "import os\n",
    "\n",
    "img_path = file_path\n",
    "if os.path.exists(img_path):\n",
    "    print(\"File exists!\")\n",
    "else:\n",
    "    print(\"File not found.\")\n"
   ]
  },
  {
   "cell_type": "code",
   "execution_count": 3,
   "id": "b6dabe58",
   "metadata": {
    "scrolled": true
   },
   "outputs": [
    {
     "name": "stdout",
     "output_type": "stream",
     "text": [
      "1/1 [==============================] - 0s 455ms/step\n"
     ]
    }
   ],
   "source": [
    "import numpy as np\n",
    "from tensorflow.keras.preprocessing.image import load_img, img_to_array\n",
    "from tensorflow.keras.models import load_model\n",
    "\n",
    "# Load the image\n",
    "img_path = file_path\n",
    "img = load_img(img_path, target_size=(28, 28))\n",
    "\n",
    "# Convert the image to a numpy array\n",
    "img_array = img_to_array(img)\n",
    "\n",
    "# Expand the dimensions of the array to fit the model's input shape\n",
    "img_array = img_array.reshape((1,) + img_array.shape)\n",
    "\n",
    "# Load the model\n",
    "model = load_model('C:/Users/Surya/implement1.h5')\n",
    "\n",
    "# Make a prediction on the image\n",
    "prediction = model.predict(img_array)\n"
   ]
  },
  {
   "cell_type": "code",
   "execution_count": 4,
   "id": "e76144e3",
   "metadata": {},
   "outputs": [
    {
     "name": "stdout",
     "output_type": "stream",
     "text": [
      "Predicted class: cardboard\n"
     ]
    }
   ],
   "source": [
    "predicted_label = np.argmax(prediction)\n",
    "\n",
    "class_names = {0:'battery',\n",
    "              1:'biological',\n",
    "              2:'brown-glass',\n",
    "              3:'cardboard',\n",
    "              4:'clothes',\n",
    "              5:'green-glass',\n",
    "              6:'metal',\n",
    "              7:'paper',\n",
    "              8:'plastic',\n",
    "              9: 'shoes',\n",
    "              10:'text_data',\n",
    "              11:'trash',\n",
    "              12: 'white-glass'}\n",
    "predicted_class = class_names[predicted_label]\n",
    "\n",
    "# Print the predicted class name\n",
    "print('Predicted class:', predicted_class)"
   ]
  },
  {
   "cell_type": "code",
   "execution_count": null,
   "id": "83e0147c",
   "metadata": {},
   "outputs": [],
   "source": []
  },
  {
   "cell_type": "code",
   "execution_count": null,
   "id": "77a7945a",
   "metadata": {},
   "outputs": [],
   "source": []
  }
 ],
 "metadata": {
  "colab": {
   "provenance": []
  },
  "kernelspec": {
   "display_name": "Python 3 (ipykernel)",
   "language": "python",
   "name": "python3"
  },
  "language_info": {
   "codemirror_mode": {
    "name": "ipython",
    "version": 3
   },
   "file_extension": ".py",
   "mimetype": "text/x-python",
   "name": "python",
   "nbconvert_exporter": "python",
   "pygments_lexer": "ipython3",
   "version": "3.9.12"
  }
 },
 "nbformat": 4,
 "nbformat_minor": 5
}
